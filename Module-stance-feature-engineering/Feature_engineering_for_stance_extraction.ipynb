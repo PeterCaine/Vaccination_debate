{
 "cells": [
  {
   "cell_type": "markdown",
   "metadata": {},
   "source": [
    "# Combined output of other systems"
   ]
  },
  {
   "cell_type": "code",
   "execution_count": 1,
   "metadata": {
    "ExecuteTime": {
     "end_time": "2020-01-31T19:55:18.042915Z",
     "start_time": "2020-01-31T19:55:17.574141Z"
    }
   },
   "outputs": [],
   "source": [
    "import pandas as pd\n",
    "df = pd.read_json('base_for_stance_feature_addition.json', encoding='utf-8')"
   ]
  },
  {
   "cell_type": "code",
   "execution_count": 2,
   "metadata": {
    "ExecuteTime": {
     "end_time": "2020-01-31T19:55:18.292937Z",
     "start_time": "2020-01-31T19:55:18.261683Z"
    },
    "scrolled": true
   },
   "outputs": [
    {
     "data": {
      "text/html": [
       "<div>\n",
       "<style scoped>\n",
       "    .dataframe tbody tr th:only-of-type {\n",
       "        vertical-align: middle;\n",
       "    }\n",
       "\n",
       "    .dataframe tbody tr th {\n",
       "        vertical-align: top;\n",
       "    }\n",
       "\n",
       "    .dataframe thead th {\n",
       "        text-align: right;\n",
       "    }\n",
       "</style>\n",
       "<table border=\"1\" class=\"dataframe\">\n",
       "  <thead>\n",
       "    <tr style=\"text-align: right;\">\n",
       "      <th></th>\n",
       "      <th>File_ID</th>\n",
       "      <th>simplified_stance</th>\n",
       "      <th>text</th>\n",
       "      <th>sentiment_score</th>\n",
       "      <th>sentimentality</th>\n",
       "      <th>sentiment_density</th>\n",
       "      <th>Title</th>\n",
       "      <th>category</th>\n",
       "      <th>sentiment_densi2y</th>\n",
       "    </tr>\n",
       "  </thead>\n",
       "  <tbody>\n",
       "    <tr>\n",
       "      <td>0</td>\n",
       "      <td>21st-Century-Wire_20170627T181355</td>\n",
       "      <td>anti</td>\n",
       "      <td>21st Century Wire saysâ€¦\\nIn early 2015, Big ...</td>\n",
       "      <td>-9</td>\n",
       "      <td>9</td>\n",
       "      <td>0.565327</td>\n",
       "      <td>US Measles Hoax: CDC</td>\n",
       "      <td>news</td>\n",
       "      <td>0.321429</td>\n",
       "    </tr>\n",
       "    <tr>\n",
       "      <td>1</td>\n",
       "      <td>@berkeleywellness_20170709T195101</td>\n",
       "      <td>pro</td>\n",
       "      <td>Paul Offit, MD, is director of the Vaccine Edu...</td>\n",
       "      <td>-2</td>\n",
       "      <td>6</td>\n",
       "      <td>0.459067</td>\n",
       "      <td>Vaccines, Autism, and the Danger of the Anti-V...</td>\n",
       "      <td>news</td>\n",
       "      <td>0.230769</td>\n",
       "    </tr>\n",
       "    <tr>\n",
       "      <td>2</td>\n",
       "      <td>ABC-News_20170511T203024</td>\n",
       "      <td>pro</td>\n",
       "      <td>This week, the World Health Organization kick...</td>\n",
       "      <td>0</td>\n",
       "      <td>6</td>\n",
       "      <td>0.790514</td>\n",
       "      <td>Despite vaccination success, US still faces ou...</td>\n",
       "      <td>news</td>\n",
       "      <td>0.428571</td>\n",
       "    </tr>\n",
       "    <tr>\n",
       "      <td>3</td>\n",
       "      <td>acsh-org_20170607T114623</td>\n",
       "      <td>pro</td>\n",
       "      <td>A year ago, Robert De Niro pulled the highly c...</td>\n",
       "      <td>-4</td>\n",
       "      <td>4</td>\n",
       "      <td>0.763359</td>\n",
       "      <td>Hereâ€™s Hoping Anti-Vaccine Film 'VAXXED' Get...</td>\n",
       "      <td>news</td>\n",
       "      <td>0.400000</td>\n",
       "    </tr>\n",
       "    <tr>\n",
       "      <td>4</td>\n",
       "      <td>Activist-Post_20170704T090503</td>\n",
       "      <td>anti</td>\n",
       "      <td>Sayer Ji\\n Activist Post\\nWhile the Disney mea...</td>\n",
       "      <td>-8</td>\n",
       "      <td>8</td>\n",
       "      <td>0.609292</td>\n",
       "      <td>The Disney Measles Outbreak: A Mousetrap of Ig...</td>\n",
       "      <td>news</td>\n",
       "      <td>0.615385</td>\n",
       "    </tr>\n",
       "    <tr>\n",
       "      <td>...</td>\n",
       "      <td>...</td>\n",
       "      <td>...</td>\n",
       "      <td>...</td>\n",
       "      <td>...</td>\n",
       "      <td>...</td>\n",
       "      <td>...</td>\n",
       "      <td>...</td>\n",
       "      <td>...</td>\n",
       "      <td>...</td>\n",
       "    </tr>\n",
       "    <tr>\n",
       "      <td>288</td>\n",
       "      <td>World-Health-Organization_20161127T044327</td>\n",
       "      <td>pro</td>\n",
       "      <td>Key facts\\nRabies is a vaccine-preventable vir...</td>\n",
       "      <td>1</td>\n",
       "      <td>1</td>\n",
       "      <td>0.061013</td>\n",
       "      <td>Rabies</td>\n",
       "      <td>healthinfo</td>\n",
       "      <td>0.166667</td>\n",
       "    </tr>\n",
       "    <tr>\n",
       "      <td>289</td>\n",
       "      <td>World-Health-Organization_20170102T021727</td>\n",
       "      <td>other</td>\n",
       "      <td>WHO | Measles containing vaccine 1st dose (MCV...</td>\n",
       "      <td>0</td>\n",
       "      <td>0</td>\n",
       "      <td>0.000000</td>\n",
       "      <td>Measles containing vaccine 1st dose (MCV1) imm...</td>\n",
       "      <td>healthinfo</td>\n",
       "      <td>0.000000</td>\n",
       "    </tr>\n",
       "    <tr>\n",
       "      <td>290</td>\n",
       "      <td>World-Health-Organization_20170403T184820</td>\n",
       "      <td>other</td>\n",
       "      <td>1. With adequate levels of hygiene, sanitation...</td>\n",
       "      <td>-1</td>\n",
       "      <td>1</td>\n",
       "      <td>0.119190</td>\n",
       "      <td>Questions and answers on immunization and vacc...</td>\n",
       "      <td>healthinfo</td>\n",
       "      <td>0.250000</td>\n",
       "    </tr>\n",
       "    <tr>\n",
       "      <td>291</td>\n",
       "      <td>World-Health-Organization_20170419T052836</td>\n",
       "      <td>pro</td>\n",
       "      <td>The GVIRF is a unique Forum in the field of va...</td>\n",
       "      <td>0</td>\n",
       "      <td>0</td>\n",
       "      <td>0.000000</td>\n",
       "      <td>The Global Vaccine and Immunization Research F...</td>\n",
       "      <td>healthinfo</td>\n",
       "      <td>0.000000</td>\n",
       "    </tr>\n",
       "    <tr>\n",
       "      <td>292</td>\n",
       "      <td>yahoo-com_20161107T201934</td>\n",
       "      <td>pro</td>\n",
       "      <td>LOS ANGELES (AP) â€” An outbreak of measles th...</td>\n",
       "      <td>-2</td>\n",
       "      <td>4</td>\n",
       "      <td>0.860215</td>\n",
       "      <td>unknown</td>\n",
       "      <td>news</td>\n",
       "      <td>0.400000</td>\n",
       "    </tr>\n",
       "  </tbody>\n",
       "</table>\n",
       "<p>293 rows × 9 columns</p>\n",
       "</div>"
      ],
      "text/plain": [
       "                                       File_ID simplified_stance  \\\n",
       "0            21st-Century-Wire_20170627T181355              anti   \n",
       "1            @berkeleywellness_20170709T195101               pro   \n",
       "2                     ABC-News_20170511T203024               pro   \n",
       "3                     acsh-org_20170607T114623               pro   \n",
       "4                Activist-Post_20170704T090503              anti   \n",
       "..                                         ...               ...   \n",
       "288  World-Health-Organization_20161127T044327               pro   \n",
       "289  World-Health-Organization_20170102T021727             other   \n",
       "290  World-Health-Organization_20170403T184820             other   \n",
       "291  World-Health-Organization_20170419T052836               pro   \n",
       "292                  yahoo-com_20161107T201934               pro   \n",
       "\n",
       "                                                  text  sentiment_score  \\\n",
       "0    21st Century Wire saysâ€¦\\nIn early 2015, Big ...               -9   \n",
       "1    Paul Offit, MD, is director of the Vaccine Edu...               -2   \n",
       "2     This week, the World Health Organization kick...                0   \n",
       "3    A year ago, Robert De Niro pulled the highly c...               -4   \n",
       "4    Sayer Ji\\n Activist Post\\nWhile the Disney mea...               -8   \n",
       "..                                                 ...              ...   \n",
       "288  Key facts\\nRabies is a vaccine-preventable vir...                1   \n",
       "289  WHO | Measles containing vaccine 1st dose (MCV...                0   \n",
       "290  1. With adequate levels of hygiene, sanitation...               -1   \n",
       "291  The GVIRF is a unique Forum in the field of va...                0   \n",
       "292  LOS ANGELES (AP) â€” An outbreak of measles th...               -2   \n",
       "\n",
       "     sentimentality  sentiment_density  \\\n",
       "0                 9           0.565327   \n",
       "1                 6           0.459067   \n",
       "2                 6           0.790514   \n",
       "3                 4           0.763359   \n",
       "4                 8           0.609292   \n",
       "..              ...                ...   \n",
       "288               1           0.061013   \n",
       "289               0           0.000000   \n",
       "290               1           0.119190   \n",
       "291               0           0.000000   \n",
       "292               4           0.860215   \n",
       "\n",
       "                                                 Title    category  \\\n",
       "0                                 US Measles Hoax: CDC        news   \n",
       "1    Vaccines, Autism, and the Danger of the Anti-V...        news   \n",
       "2    Despite vaccination success, US still faces ou...        news   \n",
       "3    Hereâ€™s Hoping Anti-Vaccine Film 'VAXXED' Get...        news   \n",
       "4    The Disney Measles Outbreak: A Mousetrap of Ig...        news   \n",
       "..                                                 ...         ...   \n",
       "288                                             Rabies  healthinfo   \n",
       "289  Measles containing vaccine 1st dose (MCV1) imm...  healthinfo   \n",
       "290  Questions and answers on immunization and vacc...  healthinfo   \n",
       "291  The Global Vaccine and Immunization Research F...  healthinfo   \n",
       "292                                            unknown        news   \n",
       "\n",
       "     sentiment_densi2y  \n",
       "0             0.321429  \n",
       "1             0.230769  \n",
       "2             0.428571  \n",
       "3             0.400000  \n",
       "4             0.615385  \n",
       "..                 ...  \n",
       "288           0.166667  \n",
       "289           0.000000  \n",
       "290           0.250000  \n",
       "291           0.000000  \n",
       "292           0.400000  \n",
       "\n",
       "[293 rows x 9 columns]"
      ]
     },
     "execution_count": 2,
     "metadata": {},
     "output_type": "execute_result"
    }
   ],
   "source": [
    "df"
   ]
  },
  {
   "cell_type": "markdown",
   "metadata": {},
   "source": [
    "# additional features"
   ]
  },
  {
   "cell_type": "code",
   "execution_count": 3,
   "metadata": {
    "ExecuteTime": {
     "end_time": "2020-01-31T19:55:19.334841Z",
     "start_time": "2020-01-31T19:55:19.168000Z"
    }
   },
   "outputs": [],
   "source": [
    "#simple binary features\n",
    "df['first_person'] = 0\n",
    "df.loc[df['text'].str.contains('\\sI\\s'), 'first_person'] = 1\n",
    "df['big_pharma'] = 0\n",
    "df.loc[df['text'].str.contains('[pP][Hh][aA][rR][mM][Aa]\\s'), 'big_pharma'] = 1\n",
    "df['hoax'] = 0\n",
    "df.loc[df['text'].str.contains('[Hh]oax'), 'hoax'] = 1\n",
    "df['media'] = 0\n",
    "df.loc[df['text'].str.contains(r'[Mm]edia'), 'media'] = 1\n",
    "df['government'] = 0\n",
    "df.loc[df['text'].str.contains(r'[Gg]overnment'), 'government'] = 1\n",
    "df['choice'] = 0\n",
    "df.loc[df['text'].str.contains(r'[Cc]hoice'), 'choice'] = 1\n",
    "df['freedom'] = 0\n",
    "df.loc[df['text'].str.contains(r'[Ff]reedom'), 'freedom'] = 1\n",
    "df['mortality'] = 0\n",
    "df.loc[df['text'].str.contains('[mM]ortality\\s'), 'mortality'] = 1\n",
    "df['god'] = 0\n",
    "df.loc[df['text'].str.contains('[Gg]od\\s'), 'god'] = 1\n",
    "\n",
    "df['title_feat_nature'] = 0\n",
    "df.loc[df.Title.str.contains(r'nature | natural'), 'title_feat_nature']=1\n",
    "df['title_feat_no_title'] = 1\n",
    "df.loc[df.Title.str.contains('unknown'), 'title_feat_no_title']=0"
   ]
  },
  {
   "cell_type": "code",
   "execution_count": 4,
   "metadata": {
    "ExecuteTime": {
     "end_time": "2020-01-31T19:55:19.803628Z",
     "start_time": "2020-01-31T19:55:19.788001Z"
    }
   },
   "outputs": [
    {
     "data": {
      "text/plain": [
       "['File_ID',\n",
       " 'simplified_stance',\n",
       " 'text',\n",
       " 'sentiment_score',\n",
       " 'sentimentality',\n",
       " 'sentiment_density',\n",
       " 'Title',\n",
       " 'category',\n",
       " 'sentiment_densi2y',\n",
       " 'first_person',\n",
       " 'big_pharma',\n",
       " 'hoax',\n",
       " 'media',\n",
       " 'government',\n",
       " 'choice',\n",
       " 'freedom',\n",
       " 'mortality',\n",
       " 'god',\n",
       " 'title_feat_nature',\n",
       " 'title_feat_no_title']"
      ]
     },
     "execution_count": 4,
     "metadata": {},
     "output_type": "execute_result"
    }
   ],
   "source": [
    "list(df.columns)"
   ]
  },
  {
   "cell_type": "code",
   "execution_count": 5,
   "metadata": {
    "ExecuteTime": {
     "end_time": "2020-01-31T19:55:22.553839Z",
     "start_time": "2020-01-31T19:55:21.913167Z"
    }
   },
   "outputs": [],
   "source": [
    "import pandas as pd\n",
    "import numpy as np\n",
    "from sklearn.model_selection import train_test_split\n",
    "from sklearn import svm\n",
    "from sklearn import metrics"
   ]
  },
  {
   "cell_type": "code",
   "execution_count": 6,
   "metadata": {
    "ExecuteTime": {
     "end_time": "2020-01-31T19:55:22.569468Z",
     "start_time": "2020-01-31T19:55:22.553839Z"
    }
   },
   "outputs": [],
   "source": [
    "#classificaition labels (pro/ anti/ neutral)\n",
    "y = df.simplified_stance"
   ]
  },
  {
   "cell_type": "code",
   "execution_count": 7,
   "metadata": {
    "ExecuteTime": {
     "end_time": "2020-01-31T19:55:22.678848Z",
     "start_time": "2020-01-31T19:55:22.663224Z"
    }
   },
   "outputs": [],
   "source": [
    "# test_train split 70:30; features are in red\n",
    "X_train, X_test, y_train, y_test = train_test_split(df[[\n",
    " 'sentiment_score',\n",
    " 'sentimentality',\n",
    " 'sentiment_density',\n",
    " 'category',\n",
    " 'first_person',\n",
    " 'big_pharma',\n",
    " 'title_feat_no_title', \n",
    " 'hoax', \n",
    " 'media',\n",
    " 'choice',\n",
    " 'freedom']], y, test_size=0.3)"
   ]
  },
  {
   "cell_type": "code",
   "execution_count": 8,
   "metadata": {
    "ExecuteTime": {
     "end_time": "2020-01-31T19:55:23.225765Z",
     "start_time": "2020-01-31T19:55:23.194511Z"
    }
   },
   "outputs": [
    {
     "name": "stdout",
     "output_type": "stream",
     "text": [
      "(205, 11) (205,)\n",
      "(88, 11) (88,)\n"
     ]
    }
   ],
   "source": [
    "print (X_train.shape, y_train.shape)\n",
    "print (X_test.shape, y_test.shape)"
   ]
  },
  {
   "cell_type": "code",
   "execution_count": 9,
   "metadata": {
    "ExecuteTime": {
     "end_time": "2020-01-31T19:55:25.272796Z",
     "start_time": "2020-01-31T19:55:25.241700Z"
    }
   },
   "outputs": [],
   "source": [
    "from sklearn.feature_extraction import DictVectorizer\n",
    "v = DictVectorizer()\n",
    "training_vec = v.fit_transform(X_train.to_dict(orient='record'))\n",
    "test_vec=v.transform(X_test.to_dict(orient='record'))"
   ]
  },
  {
   "cell_type": "code",
   "execution_count": 10,
   "metadata": {
    "ExecuteTime": {
     "end_time": "2020-01-31T19:55:25.679079Z",
     "start_time": "2020-01-31T19:55:25.632199Z"
    }
   },
   "outputs": [
    {
     "data": {
      "text/plain": [
       "['pro',\n",
       " 'pro',\n",
       " 'pro',\n",
       " 'anti',\n",
       " 'pro',\n",
       " 'pro',\n",
       " 'pro',\n",
       " 'pro',\n",
       " 'pro',\n",
       " 'pro',\n",
       " 'anti',\n",
       " 'pro',\n",
       " 'pro',\n",
       " 'anti',\n",
       " 'pro']"
      ]
     },
     "execution_count": 10,
     "metadata": {},
     "output_type": "execute_result"
    }
   ],
   "source": [
    "#svm - by far the best vs KNN/ NB/ LogReg/ LinearSVC\n",
    "clf = svm.SVC(kernel='linear', C=1)\n",
    "clf.fit(training_vec, y_train)\n",
    "predictions=list(clf.predict(test_vec))\n",
    "\n",
    "predictions[:15]"
   ]
  },
  {
   "cell_type": "code",
   "execution_count": 157,
   "metadata": {
    "ExecuteTime": {
     "end_time": "2020-01-30T18:12:12.555270Z",
     "start_time": "2020-01-30T18:12:12.539645Z"
    }
   },
   "outputs": [],
   "source": [
    "from sklearn.metrics import make_scorer\n",
    "from sklearn.metrics import confusion_matrix"
   ]
  },
  {
   "cell_type": "code",
   "execution_count": 12,
   "metadata": {
    "ExecuteTime": {
     "end_time": "2020-01-31T19:47:41.200270Z",
     "start_time": "2020-01-31T19:47:41.137777Z"
    }
   },
   "outputs": [
    {
     "data": {
      "text/plain": [
       "0.6818181818181818"
      ]
     },
     "execution_count": 12,
     "metadata": {},
     "output_type": "execute_result"
    }
   ],
   "source": [
    "clf = svm.SVC(kernel='linear', C=1).fit(training_vec, y_train)\n",
    "clf.score(test_vec, y_test)"
   ]
  },
  {
   "cell_type": "code",
   "execution_count": 16,
   "metadata": {
    "ExecuteTime": {
     "end_time": "2020-01-31T19:48:09.733755Z",
     "start_time": "2020-01-31T19:48:09.718127Z"
    },
    "scrolled": true
   },
   "outputs": [
    {
     "name": "stdout",
     "output_type": "stream",
     "text": [
      "accuracy:   0.682\n"
     ]
    }
   ],
   "source": [
    "from sklearn import metrics\n",
    "\n",
    "score = metrics.accuracy_score(y_test, predictions)\n",
    "print(\"accuracy:   %0.3f\" % score)"
   ]
  },
  {
   "cell_type": "markdown",
   "metadata": {},
   "source": [
    "# cross validate"
   ]
  },
  {
   "cell_type": "code",
   "execution_count": 13,
   "metadata": {
    "ExecuteTime": {
     "end_time": "2020-01-31T19:48:01.654978Z",
     "start_time": "2020-01-31T19:48:01.623739Z"
    }
   },
   "outputs": [],
   "source": [
    "from sklearn.feature_extraction import DictVectorizer\n",
    "v = DictVectorizer()\n",
    "all_the_beans = v.fit_transform(df[[\n",
    " 'sentiment_score',\n",
    " 'sentimentality',\n",
    " 'sentiment_density',\n",
    " 'category',\n",
    " 'first_person',\n",
    " 'big_pharma',\n",
    " 'title_feat_no_title', \n",
    " 'hoax', \n",
    " 'media',\n",
    " 'choice',\n",
    " 'freedom']].to_dict(orient='record'))\n",
    "# test_vec=v.transform(X_test.to_dict(orient='record'))"
   ]
  },
  {
   "cell_type": "code",
   "execution_count": 14,
   "metadata": {
    "ExecuteTime": {
     "end_time": "2020-01-31T19:48:03.374019Z",
     "start_time": "2020-01-31T19:48:03.123840Z"
    }
   },
   "outputs": [
    {
     "data": {
      "text/plain": [
       "array([0.61666667, 0.6       , 0.5862069 , 0.60344828, 0.63157895])"
      ]
     },
     "execution_count": 14,
     "metadata": {},
     "output_type": "execute_result"
    }
   ],
   "source": [
    "from sklearn.model_selection import cross_val_score\n",
    "clf = svm.SVC(kernel='linear', C=2)\n",
    "scores = cross_val_score(clf, all_the_beans, y, cv=5)\n",
    "scores"
   ]
  },
  {
   "cell_type": "code",
   "execution_count": 15,
   "metadata": {
    "ExecuteTime": {
     "end_time": "2020-01-31T19:48:06.561604Z",
     "start_time": "2020-01-31T19:48:06.546342Z"
    }
   },
   "outputs": [
    {
     "name": "stdout",
     "output_type": "stream",
     "text": [
      "accuracy: 0.6075801572897761, +/- sd: 0.030852605480151195\n"
     ]
    }
   ],
   "source": [
    "print (f'accuracy: {scores.mean()}, +/- sd: {scores.std()*2}')"
   ]
  }
 ],
 "metadata": {
  "kernelspec": {
   "display_name": "Python 3",
   "language": "python",
   "name": "python3"
  },
  "language_info": {
   "codemirror_mode": {
    "name": "ipython",
    "version": 3
   },
   "file_extension": ".py",
   "mimetype": "text/x-python",
   "name": "python",
   "nbconvert_exporter": "python",
   "pygments_lexer": "ipython3",
   "version": "3.7.2"
  }
 },
 "nbformat": 4,
 "nbformat_minor": 2
}
